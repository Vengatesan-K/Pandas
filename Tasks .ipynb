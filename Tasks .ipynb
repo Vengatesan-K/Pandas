{
 "cells": [
  {
   "cell_type": "markdown",
   "id": "b3fe1c0e",
   "metadata": {},
   "source": [
    "# 1.Prime numbers"
   ]
  },
  {
   "cell_type": "code",
   "execution_count": 100,
   "id": "51b9613f",
   "metadata": {},
   "outputs": [
    {
     "name": "stdout",
     "output_type": "stream",
     "text": [
      "[2] Even,[3] Odd,[5] Odd,[7] Odd,[11] Odd,[13] Odd,[17] Odd,[19] Odd,[23] Odd,[29] Odd,[31] Odd,[37] Odd,[41] Odd,[43] Odd,[47] Odd,[53] Odd,[59] Odd,[61] Odd,[67] Odd,[71] Odd,[73] Odd,[79] Odd,[83] Odd,[89] Odd,[97] Odd,"
     ]
    }
   ],
   "source": [
    "for i in range(1,101):\n",
    "  count=0\n",
    "  for j in range(1,i+1):\n",
    "    if i%j==0:\n",
    "      count=count+1\n",
    "  if count==2:\n",
    "    if i%2==0:\n",
    "      print([i], \"Even\",end=\",\")\n",
    "    else:\n",
    "      print([i],\"Odd\",end=\",\")"
   ]
  },
  {
   "cell_type": "markdown",
   "id": "01ff8c5a",
   "metadata": {},
   "source": [
    "# 2.list comprehension (prime)"
   ]
  },
  {
   "cell_type": "code",
   "execution_count": 29,
   "id": "0540503e",
   "metadata": {},
   "outputs": [],
   "source": [
    "min=1\n",
    "max=100\n",
    "primes = [num for num in range(min,max) if 0 not in [num%i for i in range(2,int(num/2)+1)]]"
   ]
  },
  {
   "cell_type": "code",
   "execution_count": 30,
   "id": "c5945ea7",
   "metadata": {},
   "outputs": [
    {
     "name": "stdout",
     "output_type": "stream",
     "text": [
      "[1, 2, 3, 5, 7, 11, 13, 17, 19, 23, 29, 31, 37, 41, 43, 47, 53, 59, 61, 67, 71, 73, 79, 83, 89, 97]\n"
     ]
    }
   ],
   "source": [
    "print(primes)"
   ]
  },
  {
   "cell_type": "code",
   "execution_count": 32,
   "id": "8476a3b2",
   "metadata": {},
   "outputs": [],
   "source": [
    "min=1\n",
    "max=100\n",
    "prime1=[\"even number\" if i %2 ==0 else \"odd number\" for i in (primes)]"
   ]
  },
  {
   "cell_type": "code",
   "execution_count": 34,
   "id": "df53a36b",
   "metadata": {},
   "outputs": [
    {
     "name": "stdout",
     "output_type": "stream",
     "text": [
      "['odd number', 'even number', 'odd number', 'odd number', 'odd number', 'odd number', 'odd number', 'odd number', 'odd number', 'odd number', 'odd number', 'odd number', 'odd number', 'odd number', 'odd number', 'odd number', 'odd number', 'odd number', 'odd number', 'odd number', 'odd number', 'odd number', 'odd number', 'odd number', 'odd number', 'odd number']\n"
     ]
    }
   ],
   "source": [
    "print(prime1)"
   ]
  },
  {
   "cell_type": "markdown",
   "id": "a11d6a0a",
   "metadata": {},
   "source": [
    "# 3.function1"
   ]
  },
  {
   "cell_type": "code",
   "execution_count": 2,
   "id": "eb46219b",
   "metadata": {},
   "outputs": [],
   "source": [
    "import math\n",
    "def differentiation(x,y,z):\n",
    "    ab=math.log(x) + math.sin(y) + math.tan(z)\n",
    "    return ab"
   ]
  },
  {
   "cell_type": "code",
   "execution_count": 5,
   "id": "0c905c4a",
   "metadata": {},
   "outputs": [
    {
     "data": {
      "text/plain": [
       "-0.15131817737977782"
      ]
     },
     "execution_count": 5,
     "metadata": {},
     "output_type": "execute_result"
    }
   ],
   "source": [
    "differentiation(3,5,6)"
   ]
  },
  {
   "cell_type": "markdown",
   "id": "29987465",
   "metadata": {},
   "source": [
    "# 4.function2"
   ]
  },
  {
   "cell_type": "code",
   "execution_count": 56,
   "id": "2787aa9e",
   "metadata": {},
   "outputs": [],
   "source": [
    "import math\n",
    "def tan(x,z):\n",
    "    ans = math.sin(x)/math.cos(z)\n",
    "    return ans"
   ]
  },
  {
   "cell_type": "code",
   "execution_count": 57,
   "id": "517d0230",
   "metadata": {},
   "outputs": [
    {
     "data": {
      "text/plain": [
       "1.9203809846976447"
      ]
     },
     "execution_count": 57,
     "metadata": {},
     "output_type": "execute_result"
    }
   ],
   "source": [
    "tan(6,8)"
   ]
  },
  {
   "cell_type": "markdown",
   "id": "c05502f3",
   "metadata": {},
   "source": [
    "# 5.function3"
   ]
  },
  {
   "cell_type": "code",
   "execution_count": 62,
   "id": "a131d6fb",
   "metadata": {},
   "outputs": [],
   "source": [
    "def equation(r):\n",
    "    E=(1/1-(r**2))\n",
    "    return E"
   ]
  },
  {
   "cell_type": "code",
   "execution_count": 63,
   "id": "46c03107",
   "metadata": {},
   "outputs": [
    {
     "data": {
      "text/plain": [
       "-24.0"
      ]
     },
     "execution_count": 63,
     "metadata": {},
     "output_type": "execute_result"
    }
   ],
   "source": [
    "equation(5)"
   ]
  },
  {
   "cell_type": "markdown",
   "id": "893d3607",
   "metadata": {},
   "source": [
    "# 6.function4"
   ]
  },
  {
   "cell_type": "code",
   "execution_count": 18,
   "id": "1fa706d1",
   "metadata": {},
   "outputs": [],
   "source": [
    "import numpy\n",
    "def distance(x1,x2,y1,y2):\n",
    "    l= numpy.sqrt((x1-x2)**2+(y1-y2)**2)\n",
    "    return l"
   ]
  },
  {
   "cell_type": "code",
   "execution_count": 22,
   "id": "20501468",
   "metadata": {},
   "outputs": [
    {
     "data": {
      "text/plain": [
       "5.830951894845301"
      ]
     },
     "execution_count": 22,
     "metadata": {},
     "output_type": "execute_result"
    }
   ],
   "source": [
    "distance(4,9,3,6)"
   ]
  },
  {
   "cell_type": "markdown",
   "id": "89a4608b",
   "metadata": {},
   "source": [
    "# 7.Class "
   ]
  },
  {
   "cell_type": "code",
   "execution_count": 1,
   "id": "e7464172",
   "metadata": {},
   "outputs": [],
   "source": [
    "import numpy\n",
    "import math\n",
    "class shiva:\n",
    "    def differentiation(x,y,z):\n",
    "        ab=math.log(x)+math.sin(y)+math.tan(z)\n",
    "        return ab\n",
    "    import math\n",
    "    def tan(x,z):\n",
    "        ans = math.sin(x)/math.cos(z)\n",
    "        return ans\n",
    "    def equation(r):\n",
    "        E=(1/1-(r**2))\n",
    "        return E\n",
    "    def distance(x1,x2,y1,y2):\n",
    "        l= numpy.sqrt((x1-x2)**2+(y1-y2)**2)\n",
    "        return l"
   ]
  },
  {
   "cell_type": "code",
   "execution_count": 56,
   "id": "687d8f63",
   "metadata": {},
   "outputs": [
    {
     "data": {
      "text/plain": [
       "-0.15131817737977782"
      ]
     },
     "execution_count": 56,
     "metadata": {},
     "output_type": "execute_result"
    }
   ],
   "source": [
    "shiva.differentiation(3,5,6)"
   ]
  },
  {
   "cell_type": "code",
   "execution_count": 67,
   "id": "f9663db2",
   "metadata": {},
   "outputs": [
    {
     "data": {
      "text/plain": [
       "1.4142135623730951"
      ]
     },
     "execution_count": 67,
     "metadata": {},
     "output_type": "execute_result"
    }
   ],
   "source": [
    "shiva.distance(2,3,4,5)"
   ]
  },
  {
   "cell_type": "code",
   "execution_count": 3,
   "id": "205e1709",
   "metadata": {},
   "outputs": [
    {
     "data": {
      "text/plain": [
       "-1.0038469721345373"
      ]
     },
     "execution_count": 3,
     "metadata": {},
     "output_type": "execute_result"
    }
   ],
   "source": [
    "shiva.tan(4,7)"
   ]
  },
  {
   "cell_type": "code",
   "execution_count": 69,
   "id": "5e20b149",
   "metadata": {},
   "outputs": [
    {
     "data": {
      "text/plain": [
       "-35.0"
      ]
     },
     "execution_count": 69,
     "metadata": {},
     "output_type": "execute_result"
    }
   ],
   "source": [
    "shiva.equation(6)"
   ]
  },
  {
   "cell_type": "markdown",
   "id": "48ea22e4",
   "metadata": {},
   "source": [
    "# 8.Lambda"
   ]
  },
  {
   "cell_type": "code",
   "execution_count": 73,
   "id": "0191e3ee",
   "metadata": {},
   "outputs": [],
   "source": [
    "Q = lambda a,b,c :(b**2)-(4*a*c/2*a)"
   ]
  },
  {
   "cell_type": "code",
   "execution_count": 74,
   "id": "42879f10",
   "metadata": {},
   "outputs": [
    {
     "data": {
      "text/plain": [
       "-135.0"
      ]
     },
     "execution_count": 74,
     "metadata": {},
     "output_type": "execute_result"
    }
   ],
   "source": [
    "Q(6,9,3)"
   ]
  },
  {
   "cell_type": "markdown",
   "id": "d3266920",
   "metadata": {},
   "source": [
    "# 9.List"
   ]
  },
  {
   "cell_type": "code",
   "execution_count": 24,
   "id": "c8f35739",
   "metadata": {},
   "outputs": [],
   "source": [
    "Grocery = [\"sugar\",\"flour\",\"Rice\",\"Chicken\",\"Salt\",\"Millets\",\"Dal\"]"
   ]
  },
  {
   "cell_type": "code",
   "execution_count": 25,
   "id": "afcb3c84",
   "metadata": {},
   "outputs": [
    {
     "data": {
      "text/plain": [
       "list"
      ]
     },
     "execution_count": 25,
     "metadata": {},
     "output_type": "execute_result"
    }
   ],
   "source": [
    "type(Grocery)"
   ]
  },
  {
   "cell_type": "code",
   "execution_count": 27,
   "id": "eb93b5ad",
   "metadata": {},
   "outputs": [
    {
     "data": {
      "text/plain": [
       "'Salt'"
      ]
     },
     "execution_count": 27,
     "metadata": {},
     "output_type": "execute_result"
    }
   ],
   "source": [
    "Grocery[4]"
   ]
  },
  {
   "cell_type": "code",
   "execution_count": 29,
   "id": "1cb95ce5",
   "metadata": {},
   "outputs": [
    {
     "data": {
      "text/plain": [
       "['flour', 'Rice', 'Chicken']"
      ]
     },
     "execution_count": 29,
     "metadata": {},
     "output_type": "execute_result"
    }
   ],
   "source": [
    "Grocery[1:4]"
   ]
  },
  {
   "cell_type": "code",
   "execution_count": 36,
   "id": "bdd4eddf",
   "metadata": {},
   "outputs": [
    {
     "data": {
      "text/plain": [
       "['Salt', 'Millets', 'Dal']"
      ]
     },
     "execution_count": 36,
     "metadata": {},
     "output_type": "execute_result"
    }
   ],
   "source": [
    "Grocery[4:8]Grocery"
   ]
  },
  {
   "cell_type": "code",
   "execution_count": 37,
   "id": "de92b3cf",
   "metadata": {},
   "outputs": [
    {
     "data": {
      "text/plain": [
       "'Salt'"
      ]
     },
     "execution_count": 37,
     "metadata": {},
     "output_type": "execute_result"
    }
   ],
   "source": [
    "Grocery[-3]"
   ]
  },
  {
   "cell_type": "code",
   "execution_count": 43,
   "id": "95355cdc",
   "metadata": {},
   "outputs": [],
   "source": [
    "Grocery.insert(4,\"oil\")"
   ]
  },
  {
   "cell_type": "code",
   "execution_count": 44,
   "id": "4fb3ec59",
   "metadata": {},
   "outputs": [
    {
     "data": {
      "text/plain": [
       "['sugar', 'flour', 'Rice', 'Chicken', 'oil', 'Salt', 'Millets', 'Dal']"
      ]
     },
     "execution_count": 44,
     "metadata": {},
     "output_type": "execute_result"
    }
   ],
   "source": [
    "Grocery"
   ]
  },
  {
   "cell_type": "code",
   "execution_count": 45,
   "id": "677fba06",
   "metadata": {},
   "outputs": [],
   "source": [
    "Gro=[\"vegetable\",\"Egg\"]"
   ]
  },
  {
   "cell_type": "code",
   "execution_count": 46,
   "id": "145f24cb",
   "metadata": {},
   "outputs": [],
   "source": [
    "Grocery.extend(Gro)"
   ]
  },
  {
   "cell_type": "code",
   "execution_count": 48,
   "id": "83cf3b2c",
   "metadata": {},
   "outputs": [
    {
     "name": "stdout",
     "output_type": "stream",
     "text": [
      "['sugar', 'flour', 'Rice', 'Chicken', 'oil', 'Salt', 'Millets', 'Dal', 'vegetable', 'Egg']\n"
     ]
    }
   ],
   "source": [
    "print(Grocery)"
   ]
  },
  {
   "cell_type": "code",
   "execution_count": 49,
   "id": "6219d3d6",
   "metadata": {},
   "outputs": [
    {
     "data": {
      "text/plain": [
       "10"
      ]
     },
     "execution_count": 49,
     "metadata": {},
     "output_type": "execute_result"
    }
   ],
   "source": [
    "len(Grocery)"
   ]
  },
  {
   "cell_type": "markdown",
   "id": "493db7af",
   "metadata": {},
   "source": [
    "# 10.RegEx"
   ]
  },
  {
   "cell_type": "code",
   "execution_count": 42,
   "id": "bd137813",
   "metadata": {},
   "outputs": [],
   "source": [
    "import re"
   ]
  },
  {
   "cell_type": "code",
   "execution_count": 66,
   "id": "6a562411",
   "metadata": {},
   "outputs": [
    {
     "data": {
      "text/plain": [
       "'customer valid number 9876543210'"
      ]
     },
     "execution_count": 66,
     "metadata": {},
     "output_type": "execute_result"
    }
   ],
   "source": [
    "re.sub('#%68-2e77','9876543210',\"customer valid number #%68-2e77\")"
   ]
  },
  {
   "cell_type": "code",
   "execution_count": 44,
   "id": "f6690af3",
   "metadata": {},
   "outputs": [],
   "source": [
    "details=\"the volunteer mobile number 9876543210 and their id 23789\""
   ]
  },
  {
   "cell_type": "code",
   "execution_count": 46,
   "id": "3ed33957",
   "metadata": {},
   "outputs": [],
   "source": [
    "ph = re.findall(\"\\d+\",(details))[1]"
   ]
  },
  {
   "cell_type": "code",
   "execution_count": 47,
   "id": "dc8b9b04",
   "metadata": {},
   "outputs": [
    {
     "data": {
      "text/plain": [
       "'23789'"
      ]
     },
     "execution_count": 47,
     "metadata": {},
     "output_type": "execute_result"
    }
   ],
   "source": [
    "ph"
   ]
  },
  {
   "cell_type": "code",
   "execution_count": 48,
   "id": "9dce3c55",
   "metadata": {},
   "outputs": [],
   "source": [
    "ph = re.findall(\"\\d+\",(details))[0]"
   ]
  },
  {
   "cell_type": "code",
   "execution_count": 49,
   "id": "e08415c3",
   "metadata": {},
   "outputs": [
    {
     "data": {
      "text/plain": [
       "'9876543210'"
      ]
     },
     "execution_count": 49,
     "metadata": {},
     "output_type": "execute_result"
    }
   ]
   
